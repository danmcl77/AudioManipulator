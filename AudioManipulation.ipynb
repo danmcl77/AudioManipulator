{
 "cells": [
  {
   "cell_type": "code",
   "execution_count": 2,
   "id": "8157427f-6776-4996-9914-6b050ee7e053",
   "metadata": {},
   "outputs": [],
   "source": [
    "from scipy.io import wavfile\n",
    "import numpy as np\n",
    "import os\n",
    "\n",
    "import random\n",
    "from random import randint\n",
    "import math\n",
    "\n",
    "\n",
    "\n",
    "def rip_audio(filename):\n",
    "  f = len(filename[1])\n",
    "  p = np.zeros(f)\n",
    "  # Mix the audio down to mono ha\n",
    "  try:\n",
    "    len(filename[1][0])\n",
    "    for i in range(f):\n",
    "      p[i] = (filename[1][i][1] + filename[1][i][0])/2\n",
    "  except Exception:\n",
    "    for i in range(f):\n",
    "      p[i] = filename[1][i]\n",
    "\n",
    "  return p\n",
    "\n",
    "def scrambler(audio_array, number_of_swaps):\n",
    "    f = len(audio_array)\n",
    "\n",
    "    sample_length = 88200\n",
    "    temp_array = [0] * sample_length\n",
    "    sample_start = randint(0,f - sample_length)\n",
    "\n",
    "    # This loads in a sample of set length into a temp array\n",
    "    for i in range(0, sample_length):\n",
    "      temp_array[i] = audio_array[sample_start + i]\n",
    "\n",
    "    for i in range(number_of_swaps):\n",
    "      sample_length = randint(3000,88200)\n",
    "      sample_start = randint(0,f)\n",
    "      #print(\"start at: %s, length: %s\\n\" % (sample_start, sample_length))\n",
    "      j = 0\n",
    "      while(((sample_start + j)<f) and (j < sample_length)):\n",
    "        temp = audio_array[sample_start+j]\n",
    "        audio_array[sample_start+j] = temp_array[j]\n",
    "        temp_array[j] = temp\n",
    "        j = j + 1\n",
    "    return audio_array\n",
    "\n",
    "# audio_file is an np array do not be decieved\n",
    "def delay(audio_file, time_seconds, decay_factor):\n",
    "    track_length = len(audio_file)\n",
    "    delay_tape = np.zeros(math.floor(44100 * time_seconds))\n",
    "    decay_length = len(delay_tape)\n",
    "    for i in range(track_length):\n",
    "      audio_file[i] = (audio_file[i] + delay_tape[i % decay_length]) / (1 + decay_factor)\n",
    "      delay_tape[i % decay_length] = audio_file[i] * decay_factor\n",
    "    \n",
    "    return audio_file\n",
    "\n",
    "def fake_vibrato(audio_file, depth, rate):\n",
    "  i = 0\n",
    "  while (i < len(audio_file)):\n",
    "        audio_file[i] = audio_file[i] * ((1 - (depth/2)) + (np.sin(np.pi * 2 * (rate * i/44100)) * depth))\n",
    "        i = i + 1\n",
    "  return audio_file\n",
    "\n",
    "# factor is factor^-1 btw ;)\n",
    "def bitcrush(audio_file, factor):\n",
    "    if (factor < 1):\n",
    "        return audio_file\n",
    "    \n",
    "    sample = audio_file[0]\n",
    "    count = 0\n",
    "    for i in range(len(audio_file)):\n",
    "        if (count == factor):\n",
    "            sample = audio_file[i]\n",
    "            count = 0\n",
    "            continue\n",
    "        audio_file[i] = sample\n",
    "        count += 1\n",
    "    return audio_file\n",
    "\n",
    "def chipmunkify(audio_file, multiple):\n",
    "    if(multiple < 0):\n",
    "        print(\"No negative numbers\")\n",
    "        return audio_file\n",
    "    \n",
    "    output_file = np.zeros(math.ceil(len(audio_file) * multiple))\n",
    "    count = 0\n",
    "    for i in range(len(output_file)):\n",
    "        if (count >= len(audio_file)):\n",
    "            break\n",
    "        output_file[i] = audio_file[math.floor(count)]\n",
    "        count = count + multiple\n",
    "    return output_file\n",
    "\n",
    "def scramblebitcrush(audio_file, factor, number_of_swaps):\n",
    "    f = len(audio_array)\n",
    "\n",
    "    sample_length = 88200\n",
    "    temp_array = [0] * sample_length\n",
    "    sample_start = randint(0,f - sample_length)\n",
    "\n",
    "    # This loads in a sample of set length into a temp array\n",
    "    for i in range(0, sample_length):\n",
    "      temp_array[i] = audio_array[sample_start + i]\n",
    "\n",
    "    for i in range(number_of_swaps):\n",
    "      sample_length = randint(3000,88200)\n",
    "      sample_start = randint(0,f)\n",
    "      if (randint(0,2) == 1):\n",
    "        temp_array = bitcrush(temp_array,factor)\n",
    "      #print(\"start at: %s, length: %s\\n\" % (sample_start, sample_length))\n",
    "      j = 0\n",
    "      while(((sample_start + j)<f) and (j < sample_length)):\n",
    "        temp = audio_array[sample_start+j]\n",
    "        audio_array[sample_start+j] = temp_array[j]\n",
    "        temp_array[j] = temp\n",
    "        j = j + 1\n",
    "    return audio_array\n",
    "\n"
   ]
  },
  {
   "cell_type": "code",
   "execution_count": 3,
   "id": "f6d20839-2cd2-4e89-98dd-7d50eaf3b74b",
   "metadata": {},
   "outputs": [],
   "source": [
    "inputfile = wavfile.read(\"resources/input.wav\")"
   ]
  },
  {
   "cell_type": "code",
   "execution_count": 7,
   "id": "98c12ea6-882c-4763-92b8-d99de3485390",
   "metadata": {},
   "outputs": [
    {
     "name": "stdout",
     "output_type": "stream",
     "text": [
      "[  0.   -4.5  -8.  ... 437.  457.5 608. ]\n"
     ]
    }
   ],
   "source": [
    "# reset\n",
    "audio_array = rip_audio(inputfile)\n",
    "print(audio_array)"
   ]
  },
  {
   "cell_type": "code",
   "execution_count": 8,
   "id": "9b3b0f85-c6dc-4df2-8eda-e31d85797fdd",
   "metadata": {},
   "outputs": [],
   "source": [
    "#Scrambler\n",
    "audio_array = scrambler(audio_array,200)"
   ]
  },
  {
   "cell_type": "code",
   "execution_count": 31,
   "id": "ed427811-de2b-4733-84bb-a083ae8213fb",
   "metadata": {},
   "outputs": [],
   "source": [
    "# \"Vibrato\"\n",
    "audio_array = fake_vibrato(audio_array,0.69,400)"
   ]
  },
  {
   "cell_type": "code",
   "execution_count": null,
   "id": "d2e173b2-2e92-4814-a60e-855178ba0ed0",
   "metadata": {},
   "outputs": [],
   "source": [
    "#Delay\n",
    "audio_array = delay(audio_array, 1, 0.6)"
   ]
  },
  {
   "cell_type": "code",
   "execution_count": 49,
   "id": "562e4e09-e23e-44bf-b032-dcf675263520",
   "metadata": {},
   "outputs": [],
   "source": [
    "#Bicrush\n",
    "audio_array = bitcrush(audio_array,3)"
   ]
  },
  {
   "cell_type": "code",
   "execution_count": 50,
   "id": "2b20b795-6052-44d8-83bd-aa4ef114d613",
   "metadata": {},
   "outputs": [],
   "source": [
    "#Chipmunkify\n",
    "audio_array = chipmunkify(audio_array,0.9)"
   ]
  },
  {
   "cell_type": "code",
   "execution_count": 57,
   "id": "e584c702-df90-477f-aa42-f5b0d2eeb859",
   "metadata": {},
   "outputs": [],
   "source": [
    "#ScrambleBitcrush\n",
    "audio_array = scramblebitcrush(audio_array, 3, 400)"
   ]
  },
  {
   "cell_type": "code",
   "execution_count": 9,
   "id": "7cee6646-5f05-4bd4-ac1e-bdd5e323becb",
   "metadata": {},
   "outputs": [
    {
     "name": "stdout",
     "output_type": "stream",
     "text": [
      "Write filename: outputtest\n"
     ]
    }
   ],
   "source": [
    "# Get the file\n",
    "name = input(\"Write filename: \")\n",
    "wavfile.write(\"resources/{}.wav\".format(name),inputfile[0],audio_array.astype(np.int16))"
   ]
  },
  {
   "cell_type": "code",
   "execution_count": null,
   "id": "9fb116f8-c2b4-4ccd-94f2-3034839e3b89",
   "metadata": {},
   "outputs": [],
   "source": []
  }
 ],
 "metadata": {
  "kernelspec": {
   "display_name": "Python 3",
   "language": "python",
   "name": "python3"
  },
  "language_info": {
   "codemirror_mode": {
    "name": "ipython",
    "version": 3
   },
   "file_extension": ".py",
   "mimetype": "text/x-python",
   "name": "python",
   "nbconvert_exporter": "python",
   "pygments_lexer": "ipython3",
   "version": "3.8.8"
  }
 },
 "nbformat": 4,
 "nbformat_minor": 5
}
